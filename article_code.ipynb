{
  "nbformat": 4,
  "nbformat_minor": 0,
  "metadata": {
    "colab": {
      "provenance": []
    },
    "kernelspec": {
      "name": "python3",
      "display_name": "Python 3"
    },
    "language_info": {
      "name": "python"
    }
  },
  "cells": [
    {
      "cell_type": "markdown",
      "source": [
        "# Code for paper\n",
        "\n",
        "This Python Notebook takes a data file with bibliometric data sources stored on Zenodo (https://doi.org/10.5281/zenodo.15037456) and creates the table and figures used in the article."
      ],
      "metadata": {
        "id": "xwzx3ZNRSykP"
      }
    },
    {
      "cell_type": "code",
      "execution_count": null,
      "metadata": {
        "id": "yC1QnvQ9euCN"
      },
      "outputs": [],
      "source": [
        "from google.colab import drive\n",
        "drive.mount('/content/drive/')"
      ]
    },
    {
      "cell_type": "code",
      "source": [
        "import pandas as pd\n",
        "import matplotlib.pyplot as plt\n",
        "import matplotlib.ticker\n",
        "import numpy as np\n",
        "import seaborn as sns"
      ],
      "metadata": {
        "id": "BLnTYdYfg0hL"
      },
      "execution_count": null,
      "outputs": []
    },
    {
      "cell_type": "code",
      "source": [
        "data = pd.read_csv([store_zenodo_data_file_on your drive]) # https://doi.org/10.5281/zenodo.15037456"
      ],
      "metadata": {
        "id": "6TX2Ej13elfy"
      },
      "execution_count": null,
      "outputs": []
    },
    {
      "cell_type": "markdown",
      "source": [
        "### table 1"
      ],
      "metadata": {
        "id": "CTgflyJGQf8m"
      }
    },
    {
      "cell_type": "code",
      "source": [
        "#count articles, not instances\n",
        "arts_count = all[['DOI', 'journal', 'ds_or_not']].drop_duplicates()\n",
        "arts_count = arts_count.value_counts(['journal', 'ds_or_not']).reset_index()\n",
        "# table_1.sort_values(by=['journal'], ascending=False)\n",
        "table_1 = pd.pivot_table(arts_count, values='count', index='journal',\n",
        "                         columns=['ds_or_not'], aggfunc=\"sum\")"
      ],
      "metadata": {
        "id": "KAbpsmGMQfJI"
      },
      "execution_count": null,
      "outputs": []
    },
    {
      "cell_type": "code",
      "source": [
        "table_1"
      ],
      "metadata": {
        "id": "f1ZGhO9-RZW1"
      },
      "execution_count": null,
      "outputs": []
    },
    {
      "cell_type": "markdown",
      "source": [
        "### separate tables for figures"
      ],
      "metadata": {
        "id": "DAPO88Eob-mS"
      }
    },
    {
      "cell_type": "code",
      "source": [
        "# all rows with data sources:\n",
        "all_ds = all[all['ds_or_not'] == 'ds']\n",
        "\n",
        "# divide between bibl_data and non_bibl_data as they have been registered in different ways:\n",
        "all_bibl = all_ds[all_ds['bibl_no_bibl'] == 'bibl']\n",
        "all_non_bibl = all_ds[all_ds['bibl_no_bibl'] != 'bibl']\n",
        "\n",
        "### bibl data\n",
        "# control of bibl_data as there are some early rows where JCR is counted separately from WoS, for example\n",
        "bibl_list = ['bibl_data', 'country_bibl_data']\n",
        "\n",
        "all_bibl_bibl = all_bibl[all_bibl['norm_coarse'].isin(bibl_list)]\n",
        "# no duplicates among bibl_data\n",
        "bibl_bibl_no_dupl = all_bibl_bibl[['publ_year', 'DOI', 'norm_fine', 'norm_coarse', 'no_countries', 'bibl_no_bibl', 'bibl_metadata', 'period']].drop_duplicates()\n",
        "\n",
        "# duplicates among the other bibl_data\n",
        "all_bibl_other = all_bibl[~all_bibl['norm_coarse'].isin(bibl_list)]\n",
        "bibl_other_no_dupl = all_bibl_other[['publ_year', 'DOI', 'norm_coarse', 'no_countries', 'bibl_no_bibl', 'bibl_metadata', 'period']].drop_duplicates()\n",
        "bibl_other_no_dupl['norm_fine'] = ''\n",
        "\n",
        "bibl_data_dedup = pd.concat([bibl_bibl_no_dupl, bibl_other_no_dupl])\n",
        "\n",
        "\n",
        "### non_bibl_data\n",
        "all_non_bibl_dedup = all_non_bibl[['publ_year', 'DOI', 'norm_coarse', 'no_countries', 'bibl_no_bibl', 'bibl_metadata', 'period']].drop_duplicates()\n",
        "all_non_bibl_dedup['norm_fine'] = ''\n",
        "\n",
        "# joint table without dupl\n",
        "all_dedup = pd.concat([bibl_data_dedup, all_non_bibl_dedup])\n",
        "\n",
        "# joint table for category comparison\n",
        "all_dedup_coarse = all_dedup.drop('norm_fine', axis=1).drop_duplicates()"
      ],
      "metadata": {
        "id": "QrfEkkG1vhBv"
      },
      "execution_count": null,
      "outputs": []
    },
    {
      "cell_type": "markdown",
      "source": [
        "### figure 1: overview bubble chart"
      ],
      "metadata": {
        "id": "hGCmnDfzvjmq"
      }
    },
    {
      "cell_type": "code",
      "source": [
        "# table with categories per year\n",
        "bubble_chart_table = all_dedup_coarse.value_counts(['publ_year', 'bibl_metadata']).reset_index()\n",
        "bubble_chart_table['year_sum'] = bubble_chart_table.groupby('publ_year')['count'].transform('sum')\n",
        "bubble_chart_table['rel_size'] = bubble_chart_table['count']/bubble_chart_table['year_sum']*100"
      ],
      "metadata": {
        "id": "OnG-Jx4LvAa_"
      },
      "execution_count": null,
      "outputs": []
    },
    {
      "cell_type": "code",
      "source": [
        "\n",
        "bubble_chart_table.sort_values(by=['publ_year'], inplace=True, ascending=False)\n",
        "\n",
        "\n",
        "fig, ax = plt.subplots()\n",
        "\n",
        "scatter_1 =ax.scatter(bubble_chart_table['publ_year'], bubble_chart_table['bibl_metadata'],\n",
        "           s=bubble_chart_table['count'], color = 'LightSalmon', label = bubble_chart_table['count'])\n",
        "\n",
        "scatter_2 =ax.scatter(bubble_chart_table['publ_year'], bubble_chart_table['bibl_metadata'],\n",
        "           s=bubble_chart_table['rel_size'], color = 'IndianRed', label = bubble_chart_table['rel_size'])\n",
        "\n",
        "plt.xticks(rotation=90)\n",
        "\n",
        "for label in ax.xaxis.get_ticklabels()[0::6]:\n",
        "    label.set_visible(False)\n",
        "\n",
        "\n",
        "box = ax.get_position()\n",
        "\n",
        "handles, labels = scatter_1.legend_elements(prop='sizes', num=5, color='LightSalmon')\n",
        "legend1 = ax.legend(handles, labels, title='count', bbox_to_anchor=(1, 1))#, loc='center left')\n",
        "ax.add_artist(legend1)\n",
        "\n",
        "handles, labels = scatter_2.legend_elements(prop='sizes', num=4, color = 'IndianRed')\n",
        "legend2 = ax.legend(handles, labels, title='%', bbox_to_anchor=(1, 0.5))#, loc='center left')\n",
        "ax.add_artist(legend2)\n",
        "\n",
        "fig.tight_layout()\n",
        "\n",
        "#plt.show()\n",
        "\n",
        "#plt.savefig('', bbox_inches = \"tight\", bbox_extra_artists=(legend1, legend2))\n"
      ],
      "metadata": {
        "id": "PllyPW4xvx1a"
      },
      "execution_count": null,
      "outputs": []
    },
    {
      "cell_type": "markdown",
      "source": [
        "### figure 2: wos,scopus and rest for bibl metadata sources"
      ],
      "metadata": {
        "id": "xPCDSXIASSq3"
      }
    },
    {
      "cell_type": "code",
      "source": [
        "# check of Scopus and country_bibl_share\n",
        "check = bibl_data_dedup[['DOI', 'norm_fine', 'norm_coarse', 'publ_year']].drop_duplicates()\n",
        "pd.pivot_table(check, values='DOI', index='publ_year', columns='norm_coarse', aggfunc = 'count')"
      ],
      "metadata": {
        "id": "BQqneecBrOI7"
      },
      "execution_count": null,
      "outputs": []
    },
    {
      "cell_type": "code",
      "source": [
        "# create rest, everything but wos and scopus:\n",
        "wos_scopus_other = bibl_data_dedup[['DOI', 'norm_fine', 'norm_coarse', 'publ_year']].drop_duplicates()\n",
        "# remove publisher and full text\n",
        "wos_scopus_other = wos_scopus_other[wos_scopus_other['norm_coarse'].isin(['wos', 'scopus', 'bibl_data', 'country_bibl_data'])]\n",
        "wos_scopus_other.loc[~wos_scopus_other['norm_coarse'].isin(['wos','scopus']), 'norm_coarse'] = 'other'\n",
        "\n",
        "c = pd.pivot_table(wos_scopus_other, values='DOI', index='publ_year', columns='norm_coarse', aggfunc = 'count')\n",
        "\n",
        "c = c.fillna(0)\n",
        "c['total_per_year'] = c['scopus']+c['wos']+c['other']\n",
        "\n",
        "c['other_share'] = c['other']/c['total_per_year']*100\n",
        "c['wos_share'] = c['wos']/c['total_per_year']*100\n",
        "c['scopus_share'] = c['scopus']/c['total_per_year']*100\n",
        "\n",
        "overview_plot = c[['wos_share', 'scopus_share', 'other_share']] # order here decides order in plot"
      ],
      "metadata": {
        "id": "oG8cRYcbV0N0"
      },
      "execution_count": null,
      "outputs": []
    },
    {
      "cell_type": "code",
      "source": [
        "proper_labels = ('Web of Science', 'Scopus', 'Other bibl metadata sources')\n",
        "colors = ('sandybrown', 'saddlebrown', 'dimgrey')\n",
        "# legend mixes up if not this:\n",
        "my_map = {'wos_share':'Web of Science', 'scopus_share':'Scopus', 'other_share':'Other bibl metadata sources'}\n",
        "\n",
        "\n",
        "#overview_plot.plot(kind = 'area', linewidth = 0) #, color = colors)\n",
        "ax = overview_plot.plot.area(linewidth = 0, color = colors)\n",
        "\n",
        "# legend mixes up if not this:\n",
        "handles, labels = ax.get_legend_handles_labels()\n",
        "ax.legend(handles, [my_map[l] for l in labels], loc='upper right')\n",
        "\n",
        "plt.xlabel('Publication year')\n",
        "plt.ylabel('Percentage (bibliographical metadata sources only)')\n",
        "\n",
        "#plt.savefig('', dpi=300, bbox_inches = \"tight\")"
      ],
      "metadata": {
        "id": "FPhPohjkV8ap"
      },
      "execution_count": null,
      "outputs": []
    },
    {
      "cell_type": "markdown",
      "source": [
        "### figure 3: other bibl metadata sources"
      ],
      "metadata": {
        "id": "fUUj0A9WXKyM"
      }
    },
    {
      "cell_type": "code",
      "source": [
        "# most used bibl sources (except wos and scopus)\n",
        "\n",
        "all_bibl_bibl['norm_fine'].value_counts().head(10)"
      ],
      "metadata": {
        "id": "dAR-3YCgX7YG"
      },
      "execution_count": null,
      "outputs": []
    },
    {
      "cell_type": "code",
      "source": [
        "all_bibl_bibl.loc[~all_bibl_bibl['norm_fine'].isin(['medline','gs', 'china', 'dblp', 'mas', 'netherlands', 'inspec', 'italy', 'ca']), 'norm_fine'] = 'other'\n",
        "\n",
        "g = pd.pivot_table(all_bibl_bibl, values='DOI', index='publ_year', columns='norm_fine', aggfunc = 'count')\n",
        "\n",
        "g = g.fillna(0)\n",
        "\n",
        "g['total_per_year'] = g['medline']+g['gs']+g['dblp']+g['mas']+g['inspec']+g['ca']+g['other']\n",
        "\n",
        "\n",
        "g['medline'] = g['medline']/g['total_per_year']*100\n",
        "g['gs'] = g['gs']/g['total_per_year']*100\n",
        "g['china'] = g['china']/g['total_per_year']*100\n",
        "g['dblp'] = g['dblp']/g['total_per_year']*100\n",
        "g['mas'] = g['mas']/g['total_per_year']*100\n",
        "g['netherlands'] = g['netherlands']/g['total_per_year']*100\n",
        "g['inspec'] = g['inspec']/g['total_per_year']\n",
        "g['italy'] = g['italy']/g['total_per_year']\n",
        "g['ca'] = g['ca']/g['total_per_year']*100\n",
        "g['other'] = g['other']/g['total_per_year']*100\n",
        "\n",
        "\n",
        "detailed_plot_bibl_ds = g[['medline', 'ca', 'dblp', 'gs', 'mas', 'inspec', 'china', 'netherlands', 'italy']]"
      ],
      "metadata": {
        "id": "SBa4wLEVXKXQ"
      },
      "execution_count": null,
      "outputs": []
    },
    {
      "cell_type": "code",
      "source": [
        "proper_labels = ['Medline', 'Chemical Abstracts', 'DBLP', 'Google Scholar', 'Microsoft Academic', 'Inspec', 'Chinese', 'Dutch', 'Italian']\n",
        "colors = ('rosybrown', 'darkorange', 'tan', 'maroon', 'slategrey', 'black', 'blue', 'green', 'red')\n",
        "\n",
        "det_p_ds = detailed_plot_bibl_ds.plot(kind='bar', linewidth=0, stacked = True, color = colors, rot = 0)\n",
        "# Shrink current axis by 20%\n",
        "box = det_p_ds.get_position()\n",
        "det_p_ds.set_position([box.x0, box.y0, box.width * 1, box.height])\n",
        "\n",
        "det_p_ds.set_ylim([0, 100])\n",
        "\n",
        "plt.xlabel('Publication year')\n",
        "plt.ylabel('Percentage (other bibliographical metadata sources only)')\n",
        "\n",
        "det_p_ds.xaxis.set_major_locator(ticker.AutoLocator())\n",
        "\n",
        "plt.legend(loc='upper right', labels = proper_labels, bbox_to_anchor=(0.4, 1))\n",
        "\n",
        "#plt.savefig('', dpi=300, bbox_inches = \"tight\")\n",
        "\n",
        "plt.show()"
      ],
      "metadata": {
        "id": "mKZF2g7VX4d_"
      },
      "execution_count": null,
      "outputs": []
    },
    {
      "cell_type": "markdown",
      "source": [
        "# Data sources used together"
      ],
      "metadata": {
        "id": "K0Z39EA9lV1n"
      }
    },
    {
      "cell_type": "code",
      "source": [
        "# counting how many ds for each art id\n",
        "count = all_dedup_coarse['DOI'].value_counts()\n",
        "all_dedup_coarse['ds_count'] = all_dedup_coarse['DOI'].map(count)"
      ],
      "metadata": {
        "id": "5pj0g2Q6g_Fn"
      },
      "execution_count": null,
      "outputs": []
    },
    {
      "cell_type": "markdown",
      "source": [
        "### figure 7: over time\n",
        "\n",
        "only norm_coarse counted, not_norm_fine, which mean data source categories, not data sources"
      ],
      "metadata": {
        "id": "1bSwzixnrK_R"
      }
    },
    {
      "cell_type": "code",
      "source": [
        "# filter for data sources\n",
        "together = all_dedup_coarse.copy()\n",
        "\n",
        "# function for aggregating counts:\n",
        "def g(row):\n",
        "    if row['ds_count'] == 1:\n",
        "        val = 1\n",
        "    elif row['ds_count'] == 2:\n",
        "        val = 2\n",
        "    elif row['ds_count'] == 3:\n",
        "        val = 3\n",
        "    else:\n",
        "        val = 4\n",
        "    return val\n",
        "\n",
        "together['ds_count_agg'] = together.apply(g, axis=1)\n",
        "\n",
        "ds_together_table = pd.pivot_table(together, values='DOI', index='period', columns='ds_count_agg', aggfunc = 'count')\n",
        "\n",
        "\n",
        "ds_together_table['total'] = ds_together_table.sum(axis=1)\n",
        "ds_together_table = ds_together_table.fillna(0)\n",
        "\n",
        "# calculate shares: (https://stackoverflow.com/questions/18504967/create-new-columns-and-fill-with-calculated-values-from-same-dataframe)\n",
        "ds_together_table = ds_together_table.join(ds_together_table.div(ds_together_table['total'], axis=0)*100, rsuffix='_perc')\n",
        "ds_together_table = ds_together_table.filter(like='perc', axis=1)"
      ],
      "metadata": {
        "id": "VJXeHARdPgL5"
      },
      "execution_count": null,
      "outputs": []
    },
    {
      "cell_type": "code",
      "source": [
        "x = np.arange(3)\n",
        "width = 0.1\n",
        "plt.bar(x-0.15, ds_together_table['1_perc'], width, color='dimgrey', hatch ='/')\n",
        "plt.bar(x-0.05, ds_together_table['2_perc'], width, color='greenyellow', hatch ='\\\\')\n",
        "plt.bar(x+0.05, ds_together_table['3_perc'], width, color='limegreen', hatch ='|')\n",
        "plt.bar(x+0.15, ds_together_table['4_perc'], width, color='forestgreen', hatch ='-')\n",
        "plt.ylim(0, 100)\n",
        "plt.xticks(x, ['1978-90', '1991-2010', '2011-22'])\n",
        "plt.xlabel('Period')\n",
        "plt.ylabel('Shares of articles (%)')\n",
        "plt.legend(['1 data source category',\n",
        "                 '2 data source categories',\n",
        "                 '3 data source categories',\n",
        "                 '4 or more data source categories'])\n",
        "\n",
        "#plt.savefig('', dpi=300, bbox_inches = \"tight\")\n",
        "\n",
        "plt.show()"
      ],
      "metadata": {
        "id": "vLc18mxdYdko"
      },
      "execution_count": null,
      "outputs": []
    },
    {
      "cell_type": "markdown",
      "source": [
        "### figure 8: data source categories most frequently used together\n",
        "\n",
        "\n"
      ],
      "metadata": {
        "id": "MXzWqmNQrOLc"
      }
    },
    {
      "cell_type": "code",
      "source": [
        "# find the most frequent categories:\n",
        "all_dedup_coarse['norm_coarse'].value_counts()"
      ],
      "metadata": {
        "id": "xxeUNHmFn3h8"
      },
      "execution_count": null,
      "outputs": []
    },
    {
      "cell_type": "code",
      "source": [
        "all_dedup_filter = all_dedup_coarse.loc[all_dedup_coarse['norm_coarse'].isin(['wos', 'bibl_data', 'scopus',\n",
        "                                                                            'country_non_bibl_data',\n",
        "                                                                            'fulltext', 'patent',\n",
        "                                                                            'country_bibl_data',\n",
        "                                                                            'non_bibl_data'])]\n",
        "\n",
        "# function for aggregating bibl_data and non_bibl_data:\n",
        "def f(row):\n",
        "    if row['norm_coarse'] == 'bibl_data' or row['norm_coarse'] == 'country_bibl_data':\n",
        "        val = 'other bibl metadata'\n",
        "    elif row['norm_coarse'] == 'non_bibl_data' or row['norm_coarse'] ==  'country_non_bibl_data':\n",
        "        val = 'other non bibl'\n",
        "    elif row['norm_coarse'] == 'fulltext':\n",
        "        val = 'full text'\n",
        "    else:\n",
        "        val = row['norm_coarse']\n",
        "    return val\n",
        "\n",
        "all_dedup_filter['cats'] = all_dedup_filter.apply(f, axis=1)\n",
        "\n",
        "all_dedup_filter_crosstab = pd.crosstab(all_dedup_filter.DOI, all_dedup_filter.cats)\n",
        "\n",
        "cooccurences = all_dedup_filter_crosstab.T.dot(all_dedup_filter_crosstab)\n",
        "np.fill_diagonal(cooccurences.values, 0)\n",
        "cooccurences"
      ],
      "metadata": {
        "id": "LXxwCh_6JuCx"
      },
      "execution_count": null,
      "outputs": []
    },
    {
      "cell_type": "code",
      "source": [
        "heat_plot = sns.heatmap(cooccurences, cmap = 'Purples', annot = True, fmt = '3') # annot = True\n",
        "fig = heat_plot.get_figure()\n",
        "\n",
        "plt.xlabel('')\n",
        "plt.ylabel('')\n",
        "plt.xticks(rotation=90)\n",
        "plt.subplots_adjust(left=0.3, right=0.9, bottom=0.3, top=0.9)\n",
        "\n",
        "plt.show()\n",
        "\n",
        "#fig.savefig('', dpi=300, bbox_inches = \"tight\")\n",
        "\n",
        "# check this for tip on half plot:\n",
        "# https://stackoverflow.com/questions/57414771/how-to-plot-only-the-lower-triangle-of-a-seaborn-heatmap"
      ],
      "metadata": {
        "id": "r1Zj2Bn0tsRP"
      },
      "execution_count": null,
      "outputs": []
    },
    {
      "cell_type": "markdown",
      "source": [
        "## Time periods (all non bibl metadata sources)"
      ],
      "metadata": {
        "id": "uN1Q_ul5_o3k"
      }
    },
    {
      "cell_type": "code",
      "source": [
        "# data source category count\n",
        "period_data = all_dedup_coarse[all_dedup_coarse['bibl_metadata'] != 'bibl metadata']\n",
        "d = pd.pivot_table(period_data, values='DOI', index='publ_year', columns='no_countries', aggfunc = 'count')\n",
        "\n",
        "\n",
        "# count shares\n",
        "d = d.fillna(0)\n",
        "d['total_per_year'] = d.sum(axis=1)\n",
        "d.loc['total_per_ds'] = pd.Series(d.sum())\n",
        "d['non_bibl_data_share'] = d['non_bibl_data']/d['total_per_year']*100\n",
        "d['fulltext_share'] = d['fulltext']/d['total_per_year']*100\n",
        "d['publisher_share'] = d['publisher']/d['total_per_year']*100\n",
        "d['web data_share'] = d['web data']/d['total_per_year']*100\n",
        "d['ranking_share'] = d['ranking']/d['total_per_year']*100\n",
        "d['altmetrics_share'] = d['altmetrics']/d['total_per_year']*100\n",
        "d['patent_share'] = d['patent']/d['total_per_year']*100\n",
        "\n",
        "detailed_plot = d[['non_bibl_data', 'fulltext', 'publisher',\n",
        "               'web data', 'ranking', 'altmetrics',\n",
        "                   'patent', 'total_per_year',\n",
        "                   'non_bibl_data_share', 'fulltext_share', 'publisher_share',\n",
        "                   'web data_share',  'ranking_share',\n",
        "                   'altmetrics_share', 'patent_share']]\n",
        "\n",
        "\n",
        "\n",
        "detailed_plot_up_to_1990 = detailed_plot.loc[:1990]\n",
        "\n",
        "detailed_plot_1991_2010 = detailed_plot.loc[1991:2010]\n",
        "\n",
        "detailed_plot_from_2011 = detailed_plot.loc[2011:]"
      ],
      "metadata": {
        "id": "QNhCr504D4LA"
      },
      "execution_count": null,
      "outputs": []
    },
    {
      "cell_type": "markdown",
      "source": [
        "### figure 4: 1978-1990"
      ],
      "metadata": {
        "id": "cGfgbp9G6CMs"
      }
    },
    {
      "cell_type": "code",
      "source": [
        "detailed_plot_up_to_1990 = detailed_plot_up_to_1990.reset_index()"
      ],
      "metadata": {
        "id": "moQuOBvGFX1z"
      },
      "execution_count": null,
      "outputs": []
    },
    {
      "cell_type": "code",
      "source": [
        "proper_labels = ['other non bibl', 'full text', 'patent']\n",
        "x = detailed_plot_up_to_1990['publ_year']\n",
        "\n",
        "plt.plot(x, detailed_plot_up_to_1990['non_bibl_data_share'], color='black', ls ='-')\n",
        "plt.plot(x, detailed_plot_up_to_1990['fulltext_share'], color='cyan', ls ='--')\n",
        "plt.plot(x, detailed_plot_up_to_1990['patent_share'], color='paleturquoise', ls ='-.')\n",
        "\n",
        "\n",
        "plt.ylim(0, 100)\n",
        "plt.legend(proper_labels)\n",
        "plt.xlabel('Publication year')\n",
        "plt.ylabel('Percentage (no bibl. metadata sources)')\n",
        "\n",
        "#plt.savefig('', dpi=300, bbox_inches = \"tight\")\n",
        "\n",
        "plt.show()"
      ],
      "metadata": {
        "id": "YWio6TH9Faok"
      },
      "execution_count": null,
      "outputs": []
    },
    {
      "cell_type": "markdown",
      "source": [
        "### figure 5: 1991-2010"
      ],
      "metadata": {
        "id": "Kr_Vr4BK6JEk"
      }
    },
    {
      "cell_type": "code",
      "source": [
        "detailed_plot_1991_2010 = detailed_plot_1991_2010.reset_index()"
      ],
      "metadata": {
        "id": "V1k0aJXhzcvi"
      },
      "execution_count": null,
      "outputs": []
    },
    {
      "cell_type": "code",
      "source": [
        "proper_labels = ['other non bibl', 'full text', 'patent', 'publisher', 'ranking', 'web data']\n",
        "x = detailed_plot_1991_2010['publ_year']\n",
        "\n",
        "plt.plot(x, detailed_plot_1991_2010['non_bibl_data_share'], color='black', ls ='-')\n",
        "plt.plot(x, detailed_plot_1991_2010['fulltext_share'], color='cyan', ls ='--')\n",
        "plt.plot(x, detailed_plot_1991_2010['patent_share'], color='paleturquoise', ls ='-.')\n",
        "plt.plot(x, detailed_plot_1991_2010['publisher_share'], color='deeppink', ls =':')\n",
        "plt.plot(x, detailed_plot_1991_2010['ranking_share'], color='purple', ls ='--')\n",
        "plt.plot(x, detailed_plot_1991_2010['web data_share'], color='violet', ls ='-.')\n",
        "\n",
        "plt.ylim(0, 100)\n",
        "plt.xticks(np.arange(1991, 2010, step=3))\n",
        "plt.legend(proper_labels)\n",
        "plt.xlabel('Publication year')\n",
        "plt.ylabel('Percentage (no bibl. metadata sources)')\n",
        "\n",
        "#plt.savefig('', dpi=300, bbox_inches = \"tight\")\n",
        "\n",
        "plt.show()"
      ],
      "metadata": {
        "id": "rfGRAZSvzj2G"
      },
      "execution_count": null,
      "outputs": []
    },
    {
      "cell_type": "markdown",
      "source": [
        "### figure 6: 2011-2022"
      ],
      "metadata": {
        "id": "orR8rIgi6NrI"
      }
    },
    {
      "cell_type": "code",
      "source": [
        "detailed_plot_from_2011 = detailed_plot_from_2011.reset_index()\n",
        "# remove total row:\n",
        "detailed_plot_from_2011 = detailed_plot_from_2011.drop(12)"
      ],
      "metadata": {
        "id": "Z529Ow7l0Zt8"
      },
      "execution_count": null,
      "outputs": []
    },
    {
      "cell_type": "code",
      "source": [
        "proper_labels = ['other non bibl', 'patent', 'full text','altmetric data', 'publisher', 'ranking', 'web data']\n",
        "x = detailed_plot_from_2011['publ_year']\n",
        "\n",
        "plt.plot(x, detailed_plot_from_2011['non_bibl_data_share'], color='black', ls ='-')\n",
        "plt.plot(x, detailed_plot_from_2011['patent_share'], color='paleturquoise', ls ='-.')\n",
        "plt.plot(x, detailed_plot_from_2011['fulltext_share'], color='cyan', ls ='--')\n",
        "plt.plot(x, detailed_plot_from_2011['altmetrics_share'], color='salmon', ls ='-')\n",
        "plt.plot(x, detailed_plot_from_2011['publisher_share'], color='deeppink', ls =':')\n",
        "plt.plot(x, detailed_plot_from_2011['ranking_share'], color='purple', ls ='--')\n",
        "plt.plot(x, detailed_plot_from_2011['web data_share'], color='violet', ls ='-.')\n",
        "\n",
        "plt.ylim(0, 100)\n",
        "plt.legend(proper_labels)\n",
        "plt.xlabel('Publication year')\n",
        "plt.ylabel('Percentage (no bibl. metadata sources)')\n",
        "\n",
        "# plt.savefig('', dpi=300, bbox_inches = \"tight\")\n",
        "\n",
        "plt.show()"
      ],
      "metadata": {
        "id": "c0To26hT0fNu"
      },
      "execution_count": null,
      "outputs": []
    }
  ]
}